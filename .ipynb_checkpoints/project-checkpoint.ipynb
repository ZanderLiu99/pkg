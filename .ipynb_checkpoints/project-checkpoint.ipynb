{
 "cells": [
  {
   "cell_type": "markdown",
   "id": "d7a1aa40",
   "metadata": {},
   "source": [
    "Before you turn this problem in, make sure everything runs as expected. First, **restart the kernel** (in the menubar, select Kernel$\\rightarrow$Restart) and then **run all cells** (in the menubar, select Cell$\\rightarrow$Run All).\n",
    "\n",
    "Make sure you fill in any place that says `YOUR CODE HERE` or \"YOUR ANSWER HERE\", as well as your name and collaborators below:\n",
    "\n"
   ]
  },
  {
   "cell_type": "code",
   "execution_count": 1,
   "id": "63bcd485",
   "metadata": {},
   "outputs": [],
   "source": [
    "NAME = \"Ziang Liu\"\n",
    "\n"
   ]
  },
  {
   "cell_type": "markdown",
   "id": "e2ca97db-b880-41d9-aad4-755acca358d1",
   "metadata": {},
   "source": [
    "Project\n",
    "=======\n",
    "\n",
    "The final project is to create a small Python package for OpenAlex based on what we have learned so far. You will create the package and host it on GitHUB. You will turn in a pdf of this notebook.\n",
    "\n",
    "Your tasks are:\n",
    "1. Create a pip installable Python package in a GitHUB repo that provides an OpenAlex Works class. The class should have methods to get an RIS and a bibtex entry for a DOI. You can reuse code from previous assignments and lectures. Your class should also have a command line utility that prints RIS or bibtex to the terminal. \n",
    "2. Your package must have some tests that show at least some part of the package works correctly.\n",
    "3. You should make sure your repo passes black and pylint. Your code should pass both of these.\n",
    "4. You should setup a GitHUB action that runs your tests\n",
    "5. You should add an Actions status badge that shows in the README.\n",
    "6. Your package should also have a license.\n",
    "\n",
    "Put the URL to your repo in the next cell:\n",
    "\n"
   ]
  },
  {
   "cell_type": "code",
   "execution_count": 2,
   "id": "e519cca5-3d1a-42f8-912f-c82c7f249250",
   "metadata": {},
   "outputs": [
    {
     "name": "stderr",
     "output_type": "stream",
     "text": [
      "WARNING: Skipping s23openalex as it is not installed.\n"
     ]
    }
   ],
   "source": [
    "%%bash\n",
    "# Clean up any existing files\n",
    "rm -rf pkg\n",
    "pip uninstall -y s23openalex"
   ]
  },
  {
   "cell_type": "code",
   "execution_count": 3,
   "id": "d0cf028a-567f-4b2a-82e7-f140cad39024",
   "metadata": {},
   "outputs": [],
   "source": [
    "%%bash\n",
    "mkdir -p pkg/s23openalex\n",
    "cd pkg"
   ]
  },
  {
   "cell_type": "code",
   "execution_count": 4,
   "id": "3777fd3b-352e-4195-bcb8-bc915b3dc10c",
   "metadata": {},
   "outputs": [
    {
     "name": "stdout",
     "output_type": "stream",
     "text": [
      "Writing pkg/setup.py\n"
     ]
    }
   ],
   "source": [
    "%%writefile pkg/setup.py\n",
    "\"\"\"This file help to setup.\"\"\"\n",
    "\n",
    "from setuptools import setup\n",
    "\n",
    "setup(\n",
    "    name=\"s23openalex\",\n",
    "    version=\"0.0.1\",\n",
    "    description=\"bibtex and RIS\",\n",
    "    maintainer=\"Ziang Liu\",\n",
    "    maintainer_email=\"ziangliu@andrew.cmu.edu\",\n",
    "    license=\"MIT\",\n",
    "    packages=[\"s23openalex\"],\n",
    "    scripts=[],\n",
    "    long_description=\"\"\"get an RIS and a bibtex entry for a DOI\"\"\",\n",
    ")"
   ]
  },
  {
   "cell_type": "code",
   "execution_count": 5,
   "id": "c3d6aed6-7670-4971-ae98-a586a3d6f4cb",
   "metadata": {},
   "outputs": [
    {
     "name": "stdout",
     "output_type": "stream",
     "text": [
      "Writing pkg/README.md\n"
     ]
    }
   ],
   "source": [
    "%%writefile pkg/README.md \n",
    "This package could get an RIS and a bibtex entry for a DOI."
   ]
  },
  {
   "cell_type": "code",
   "execution_count": 6,
   "id": "cc9819d2-6164-463b-b2b0-c74be29da11c",
   "metadata": {},
   "outputs": [
    {
     "name": "stdout",
     "output_type": "stream",
     "text": [
      "Writing pkg/s23openalex/works.py\n"
     ]
    }
   ],
   "source": [
    "%%writefile pkg/s23openalex/works.py\n",
    "\"\"\"This file could get an RIS and a bibtex entry for a DOI.\"\"\"\n",
    "\n",
    "import requests\n",
    "import bibtexparser\n",
    "\n",
    "\n",
    "class Works:\n",
    "    \"\"\"This class could get an RIS and a bibtex entry for a DOI.\"\"\"\n",
    "\n",
    "    def __init__(self, oaid):\n",
    "        \"\"\"Get an RIS and a bibtex entry for a DOI.\"\"\"\n",
    "        self.oaid = oaid\n",
    "        self.req = requests.get(f\"https://api.openalex.org/works/{oaid}\")\n",
    "        self.data = self.req.json()\n",
    "\n",
    "    def get_bibtex(self):\n",
    "        \"\"\"Get a bibtex entry for a DOI.\"\"\"\n",
    "        h = \"application/x-bibtex\"\n",
    "        res = requests.get(self.data[\"doi\"], headers={\"Accept\": h})\n",
    "        db = bibtexparser.loads(res.text)\n",
    "        self.bibtex = db.entries[0]\n",
    "        return self.bibtex\n",
    "\n",
    "    def get_RIS(self):\n",
    "        \"\"\"Get an RIS for a DOI.\"\"\"\n",
    "        fields = []\n",
    "        if self.data[\"type\"] == \"journal-article\":\n",
    "            fields += [\"TY  - JOUR\"]\n",
    "        else:\n",
    "            raise Exception(\"Unsupported type {self.data['type']}\")\n",
    "\n",
    "        for author in self.data[\"authorships\"]:\n",
    "            fields += [f'AU  - {author[\"author\"][\"display_name\"]}']\n",
    "\n",
    "        fields += [f'PY  - {self.data[\"publication_year\"]}']\n",
    "        fields += [f'TI  - {self.data[\"title\"]}']\n",
    "        fields += [f'JO  - {self.data[\"host_venue\"][\"display_name\"]}']\n",
    "        fields += [f'VL  - {self.data[\"biblio\"][\"volume\"]}']\n",
    "\n",
    "        if self.data[\"biblio\"][\"issue\"]:\n",
    "            fields += [f'IS  - {self.data[\"biblio\"][\"issue\"]}']\n",
    "\n",
    "        fields += [f'SP  - {self.data[\"biblio\"][\"first_page\"]}']\n",
    "        fields += [f'EP  - {self.data[\"biblio\"][\"last_page\"]}']\n",
    "        fields += [f'DO  - {self.data[\"doi\"]}']\n",
    "        fields += [\"ER  -\"]\n",
    "\n",
    "        self.ris = fields\n",
    "        return self.ris"
   ]
  },
  {
   "cell_type": "code",
   "execution_count": 7,
   "id": "f43cd50e-98ed-457e-bb0b-44c30b4f4906",
   "metadata": {},
   "outputs": [
    {
     "name": "stdout",
     "output_type": "stream",
     "text": [
      "Writing pkg/s23openalex/__main__.py\n"
     ]
    }
   ],
   "source": [
    "%%writefile pkg/s23openalex/__main__.py\n",
    "\"\"\"This file use cmd line to get an RIS and a bibtex entry for a DOI.\"\"\"\n",
    "\n",
    "import argparse\n",
    "from s23openalex import Works\n",
    "\n",
    "\n",
    "def main():\n",
    "    \"\"\"Get an RIS and a bibtex entry for a DOI.\"\"\"\n",
    "    parser = argparse.ArgumentParser(description=\"Get RIS or bibtex entry.\")\n",
    "    parser.add_argument(\"doi\", help=\"Input the DOI.\")\n",
    "    parser.add_argument(\"--RIS\", help=\"Get the RIS.\", action=\"store_true\")\n",
    "    parser.add_argument(\"--bib\", help=\"Get the bibtex.\", action=\"store_true\")\n",
    "\n",
    "    args = parser.parse_args()\n",
    "    ww = Works(args.doi)\n",
    "    if args.RIS:\n",
    "        print(ww.get_RIS())\n",
    "    elif args.bib:\n",
    "        print(ww.get_bibtex())\n",
    "    else:\n",
    "        print(\"Please select an option (--RIS or --bibtex).\")\n",
    "\n",
    "\n",
    "if __name__ == \"__main__\":\n",
    "    main()"
   ]
  },
  {
   "cell_type": "code",
   "execution_count": 8,
   "id": "7e7eb9d3-bf69-4927-844d-bd9da76311be",
   "metadata": {},
   "outputs": [
    {
     "name": "stdout",
     "output_type": "stream",
     "text": [
      "Writing pkg/s23openalex/__init__.py\n"
     ]
    }
   ],
   "source": [
    "%%writefile pkg/s23openalex/__init__.py\n",
    "\"\"\"This file start the pkg.\"\"\"\n",
    "\n",
    "from .works import Works"
   ]
  },
  {
   "cell_type": "code",
   "execution_count": 9,
   "id": "d272a38e-71f1-48a0-a348-44cd0578e1fc",
   "metadata": {},
   "outputs": [
    {
     "name": "stdout",
     "output_type": "stream",
     "text": [
      "Writing pkg/s23openalex/test_works.py\n"
     ]
    }
   ],
   "source": [
    "%%writefile pkg/s23openalex/test_works.py\n",
    "\"\"\"This file test the works.\"\"\"\n",
    "\n",
    "import pytest\n",
    "from s23openalex import Works\n",
    "\n",
    "bib = {\n",
    "    \"journal\": \"{ACS} Catalysis\",\n",
    "    \"title\": \"Examples of Effective Data Sharing in Scientific Publishing\",\n",
    "    \"author\": \"John R. Kitchin\",\n",
    "    \"pages\": \"3894--3899\",\n",
    "    \"number\": \"6\",\n",
    "    \"volume\": \"5\",\n",
    "    \"publisher\": \"American Chemical Society ({ACS})\",\n",
    "    \"month\": \"may\",\n",
    "    \"year\": \"2015\",\n",
    "    \"url\": \"https://doi.org/10.1021%2Facscatal.5b00538\",\n",
    "    \"doi\": \"10.1021/acscatal.5b00538\",\n",
    "    \"ENTRYTYPE\": \"article\",\n",
    "    \"ID\": \"Kitchin_2015\",\n",
    "}\n",
    "\n",
    "RIS = [\n",
    "    \"TY  - JOUR\",\n",
    "    \"AU  - John R. Kitchin\",\n",
    "    \"PY  - 2015\",\n",
    "    \"TI  - Examples of Effective Data Sharing in Scientific Publishing\",\n",
    "    \"JO  - ACS Catalysis\",\n",
    "    \"VL  - 5\",\n",
    "    \"IS  - 6\",\n",
    "    \"SP  - 3894\",\n",
    "    \"EP  - 3899\",\n",
    "    \"DO  - https://doi.org/10.1021/acscatal.5b00538\",\n",
    "    \"ER  -\",\n",
    "]\n",
    "\n",
    "\n",
    "@pytest.fixture()\n",
    "def setup_bib():\n",
    "    \"\"\"Get a bibtex entry for a DOI.\"\"\"\n",
    "    return bib\n",
    "\n",
    "\n",
    "class TestBib:\n",
    "    \"\"\"Test a bibtex entry for a DOI.\"\"\"\n",
    "\n",
    "    def test_Bib(self, setup_bib):\n",
    "        \"\"\"Test a bibtex entry for a DOI.\"\"\"\n",
    "        w = Works(\"https://doi.org/10.1021/acscatal.5b00538\")\n",
    "        bib = w.get_bibtex()\n",
    "        assert bib == setup_bib\n",
    "\n",
    "\n",
    "@pytest.fixture()\n",
    "def setup_RIS():\n",
    "    \"\"\"Get an RIS for a DOI.\"\"\"\n",
    "    return RIS\n",
    "\n",
    "\n",
    "class TestRIS:\n",
    "    \"\"\"Test an RIS for a DOI.\"\"\"\n",
    "\n",
    "    def test_RIS(self, setup_RIS):\n",
    "        \"\"\"Test an RIS for a DOI.\"\"\"\n",
    "        w = Works(\"https://doi.org/10.1021/acscatal.5b00538\")\n",
    "        RIS = w.get_RIS()\n",
    "        assert RIS == setup_RIS"
   ]
  },
  {
   "cell_type": "code",
   "execution_count": 10,
   "id": "97c1b473-f84f-45f8-99dd-5c6cf5d22361",
   "metadata": {},
   "outputs": [
    {
     "name": "stdout",
     "output_type": "stream",
     "text": [
      "rm '.ipynb_checkpoints/project-checkpoint.ipynb'\n",
      "rm 'pkg/README.md'\n",
      "rm 'pkg/s23openalex/__init__.py'\n",
      "rm 'pkg/s23openalex/__main__.py'\n",
      "rm 'pkg/s23openalex/test_works.py'\n",
      "rm 'pkg/s23openalex/works.py'\n",
      "rm 'pkg/setup.py'\n",
      "rm 'project.ipynb'\n",
      "rm 'project.pdf'\n",
      "Reinitialized existing Git repository in /home/jupyter-ziangliu@andrew.cm-5e81f/s23-06682/assignments/project/.git/\n"
     ]
    },
    {
     "name": "stderr",
     "output_type": "stream",
     "text": [
      "warning: adding embedded git repository: 06682\n",
      "hint: You've added another git repository inside your current repository.\n",
      "hint: Clones of the outer repository will not contain the contents of\n",
      "hint: the embedded repository and will not know how to obtain it.\n",
      "hint: If you meant to add a submodule, use:\n",
      "hint: \n",
      "hint: \tgit submodule add <url> 06682\n",
      "hint: \n",
      "hint: If you added this path by mistake, you can remove it from the\n",
      "hint: index with:\n",
      "hint: \n",
      "hint: \tgit rm --cached 06682\n",
      "hint: \n",
      "hint: See \"git help submodule\" for more information.\n"
     ]
    },
    {
     "name": "stdout",
     "output_type": "stream",
     "text": [
      "[master ee8339f] Initial commit\n",
      " 2 files changed, 123 insertions(+), 35 deletions(-)\n",
      " create mode 160000 06682\n"
     ]
    },
    {
     "name": "stderr",
     "output_type": "stream",
     "text": [
      "fatal: remote origin already exists.\n",
      "remote: Resolving deltas: 100% (1/1), completed with 1 local object.        \n",
      "To github.com:ZanderLiu99/06682.git\n",
      "   af0d690..ee8339f  master -> master\n"
     ]
    },
    {
     "name": "stdout",
     "output_type": "stream",
     "text": [
      "Branch 'master' set up to track remote branch 'master' from 'origin'.\n"
     ]
    }
   ],
   "source": [
    "%%bash\n",
    "git rm -r --cached .\n",
    "git init\n",
    "git add .\n",
    "git commit -m \"Initial commit\"\n",
    "git remote add origin git@github.com:ZanderLiu99/pkg.git\n",
    "git push -u origin master\n"
   ]
  },
  {
   "cell_type": "markdown",
   "id": "bdae16a8-683f-4583-b045-ec75e2cd259c",
   "metadata": {},
   "source": [
    "# Clone the repo here\n",
    "\n",
    "You should clone your repo in this folder. Use the tree command to show your repo structure:\n",
    "\n",
    "    ! tree your-repo-name\n",
    "\n"
   ]
  },
  {
   "cell_type": "code",
   "execution_count": 11,
   "id": "d07f5877-c686-429f-9b57-51819f586149",
   "metadata": {},
   "outputs": [
    {
     "name": "stdout",
     "output_type": "stream",
     "text": [
      "fatal: destination path 'pkg' already exists and is not an empty directory.\n"
     ]
    }
   ],
   "source": [
    "! git clone https://github.com/ZanderLiu99/pkg.git"
   ]
  },
  {
   "cell_type": "code",
   "execution_count": 12,
   "id": "abe4f2c2-a5f8-4388-9cf2-775a8fc5dd66",
   "metadata": {},
   "outputs": [
    {
     "name": "stdout",
     "output_type": "stream",
     "text": [
      "Defaulting to user installation because normal site-packages is not writeable\n",
      "\u001b[31mERROR: Directory '.' is not installable. Neither 'setup.py' nor 'pyproject.toml' found.\u001b[0m\n"
     ]
    }
   ],
   "source": [
    "# This should install the s23openalex package\n",
    "!pip install ."
   ]
  },
  {
   "cell_type": "code",
   "execution_count": 13,
   "id": "a57330e7-9679-427b-bc58-a3d530ec376a",
   "metadata": {},
   "outputs": [
    {
     "name": "stdout",
     "output_type": "stream",
     "text": [
      "\u001b[01;34mpkg\u001b[00m\n",
      "├── README.md\n",
      "├── \u001b[01;34ms23openalex\u001b[00m\n",
      "│   ├── __init__.py\n",
      "│   ├── __main__.py\n",
      "│   ├── test_works.py\n",
      "│   └── works.py\n",
      "└── setup.py\n",
      "\n",
      "1 directory, 6 files\n"
     ]
    }
   ],
   "source": [
    "! tree pkg\n"
   ]
  },
  {
   "cell_type": "markdown",
   "id": "0d152ec2-3ce8-4b44-a26a-cd4648c5e0a7",
   "metadata": {},
   "source": [
    "# Show evidence that your repo passes black and pylint\n",
    "\n"
   ]
  },
  {
   "cell_type": "code",
   "execution_count": 14,
   "id": "567237fa-2a52-49d7-8bf4-d8a3e685c7d1",
   "metadata": {},
   "outputs": [
    {
     "name": "stdout",
     "output_type": "stream",
     "text": [
      "pylint 2.14.5\n",
      "astroid 2.11.7\n",
      "Python 3.9.7 | packaged by conda-forge | (default, Sep 29 2021, 19:20:46) \n",
      "[GCC 9.4.0]\n",
      "\u001b[0m"
     ]
    }
   ],
   "source": [
    "!pylint --version"
   ]
  },
  {
   "cell_type": "code",
   "execution_count": 15,
   "id": "728a40e2-d5cc-4302-afe0-07b6f199d48a",
   "metadata": {},
   "outputs": [
    {
     "name": "stdout",
     "output_type": "stream",
     "text": [
      "\u001b[1mAll done! ✨ 🍰 ✨\u001b[0m\n",
      "\u001b[34m5 files \u001b[0mleft unchanged.\n",
      "pkg/s23openalex/__init__.py:3:1: F401 '.works.Works' imported but unused\n"
     ]
    }
   ],
   "source": [
    "# %%bash\n",
    "# black pkg\n",
    "# pylint pkg\n",
    "\n",
    "! black pkg && flake8 pkg && pylint pkg"
   ]
  },
  {
   "cell_type": "markdown",
   "id": "0099e4dc-0e6f-4dc3-b329-b6f44247a769",
   "metadata": {
    "tags": []
   },
   "source": [
    "# Tests\n",
    "\n",
    "Create one or more tests in the repo that show your package works correctly. Show an example here that your tests work.\n",
    "\n"
   ]
  },
  {
   "cell_type": "code",
   "execution_count": 16,
   "id": "2313046e-03fb-4cd5-85eb-4325ebb16264",
   "metadata": {},
   "outputs": [
    {
     "name": "stdout",
     "output_type": "stream",
     "text": [
      "\u001b[1m============================= test session starts ==============================\u001b[0m\n",
      "platform linux -- Python 3.9.7, pytest-7.2.2, pluggy-1.0.0\n",
      "rootdir: /home/jupyter-ziangliu@andrew.cm-5e81f/s23-06682/assignments/project/pkg\n",
      "plugins: typeguard-2.13.3, anyio-3.6.1\n",
      "collected 2 items                                                              \u001b[0m\n",
      "\n",
      "pkg/s23openalex/test_works.py \u001b[32m.\u001b[0m\u001b[32m.\u001b[0m\u001b[32m                                         [100%]\u001b[0m\n",
      "\n",
      "\u001b[32m============================== \u001b[32m\u001b[1m2 passed\u001b[0m\u001b[32m in 0.58s\u001b[0m\u001b[32m ===============================\u001b[0m\n"
     ]
    }
   ],
   "source": [
    "! pytest pkg"
   ]
  },
  {
   "cell_type": "markdown",
   "id": "754ec2b7-d224-4f1c-ba44-5d08ca9ebfbc",
   "metadata": {},
   "source": [
    "# Make some examples of your package to show it works here\n",
    "\n",
    "Install the package, and show an example for each method (RIS, and bibtex). Provide some evidence that the examples work correctly and generate valid RIS and bibtex.\n",
    "\n"
   ]
  },
  {
   "cell_type": "code",
   "execution_count": 17,
   "id": "827b5819-efd5-4dc6-9367-dcd53b1d4474",
   "metadata": {},
   "outputs": [
    {
     "ename": "ModuleNotFoundError",
     "evalue": "No module named 's23openalex'",
     "output_type": "error",
     "traceback": [
      "\u001b[0;31m---------------------------------------------------------------------------\u001b[0m",
      "\u001b[0;31mModuleNotFoundError\u001b[0m                       Traceback (most recent call last)",
      "Input \u001b[0;32mIn [17]\u001b[0m, in \u001b[0;36m<cell line: 1>\u001b[0;34m()\u001b[0m\n\u001b[0;32m----> 1\u001b[0m \u001b[38;5;28;01mimport\u001b[39;00m \u001b[38;5;21;01ms23openalex\u001b[39;00m\n\u001b[1;32m      2\u001b[0m \u001b[38;5;28;01mfrom\u001b[39;00m \u001b[38;5;21;01ms23openalex\u001b[39;00m \u001b[38;5;28;01mimport\u001b[39;00m Works\n\u001b[1;32m      3\u001b[0m w1 \u001b[38;5;241m=\u001b[39m Works(\u001b[38;5;124m'\u001b[39m\u001b[38;5;124mhttps://doi.org/10.1088/2058-7058/20/11/28\u001b[39m\u001b[38;5;124m'\u001b[39m)\n",
      "\u001b[0;31mModuleNotFoundError\u001b[0m: No module named 's23openalex'"
     ]
    }
   ],
   "source": [
    "import s23openalex\n",
    "from s23openalex import Works\n",
    "w1 = Works('https://doi.org/10.1088/2058-7058/20/11/28')\n",
    "w1.get_bibtex()"
   ]
  },
  {
   "cell_type": "code",
   "execution_count": null,
   "id": "8b368374-94b2-4467-a165-9a3b67d7173b",
   "metadata": {},
   "outputs": [],
   "source": [
    "w1.get_RIS()"
   ]
  },
  {
   "cell_type": "code",
   "execution_count": null,
   "id": "915165d3-3237-4155-a1f0-88b03121d228",
   "metadata": {},
   "outputs": [],
   "source": [
    "w2 = Works('https://doi.org/10.12688/mniopenres.12772.1')\n",
    "w2.get_bibtex()"
   ]
  },
  {
   "cell_type": "code",
   "execution_count": null,
   "id": "c5ed1883-d909-4ec5-82a8-89ce55abb268",
   "metadata": {},
   "outputs": [],
   "source": [
    "w2.get_RIS()"
   ]
  },
  {
   "cell_type": "markdown",
   "id": "eedea211-d905-45f9-8358-f962dec6f934",
   "metadata": {},
   "source": [
    "# Show that the commandline utility works. \n",
    "\n",
    "Run the command you created and show that it outputs either RIS or bibtex for a DOI.\n",
    "\n"
   ]
  },
  {
   "cell_type": "code",
   "execution_count": null,
   "id": "1adc2ac4-c39b-4fd3-92d1-33f19d29cf2d",
   "metadata": {},
   "outputs": [],
   "source": [
    "! python -m s23openalex --RIS 'https://doi.org/10.1088/2058-7058/20/11/28'"
   ]
  },
  {
   "cell_type": "code",
   "execution_count": null,
   "id": "ba401224-1508-4192-8872-3ccd10fe896d",
   "metadata": {},
   "outputs": [],
   "source": [
    "! python -m s23openalex --bib 'https://doi.org/10.1088/2058-7058/20/11/28'"
   ]
  },
  {
   "cell_type": "code",
   "execution_count": null,
   "id": "ea556875-4675-4905-a9cd-d33aa3c78f8a",
   "metadata": {},
   "outputs": [],
   "source": [
    "# Run this cell to generate a pdf from this notebook\n",
    "# Click the generated links to preview and download it.\n",
    "# Report errors to Professor Kitchin\n",
    "from s23 import pdf\n",
    "%pdf\n",
    "\n"
   ]
  }
 ],
 "metadata": {
  "kernelspec": {
   "display_name": "Python 3",
   "language": "python",
   "name": "python3"
  },
  "language_info": {
   "codemirror_mode": {
    "name": "ipython",
    "version": 3
   },
   "file_extension": ".py",
   "mimetype": "text/x-python",
   "name": "python",
   "nbconvert_exporter": "python",
   "pygments_lexer": "ipython3",
   "version": "3.9.7"
  },
  "widgets": {
   "application/vnd.jupyter.widget-state+json": {
    "state": {},
    "version_major": 2,
    "version_minor": 0
   }
  }
 },
 "nbformat": 4,
 "nbformat_minor": 5
}
